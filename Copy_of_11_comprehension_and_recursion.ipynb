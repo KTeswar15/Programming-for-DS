{
  "nbformat": 4,
  "nbformat_minor": 0,
  "metadata": {
    "colab": {
      "provenance": [],
      "include_colab_link": true
    },
    "kernelspec": {
      "name": "python3",
      "display_name": "Python 3"
    },
    "language_info": {
      "name": "python"
    }
  },
  "cells": [
    {
      "cell_type": "markdown",
      "metadata": {
        "id": "view-in-github",
        "colab_type": "text"
      },
      "source": [
        "<a href=\"https://colab.research.google.com/github/KTeswar15/Programming-for-DS/blob/main/Copy_of_11_comprehension_and_recursion.ipynb\" target=\"_parent\"><img src=\"https://colab.research.google.com/assets/colab-badge.svg\" alt=\"Open In Colab\"/></a>"
      ]
    },
    {
      "cell_type": "markdown",
      "source": [
        "## Assignment 11\n",
        "Due Monday 15 April at noon"
      ],
      "metadata": {
        "id": "y6mGkyWrqph3"
      }
    },
    {
      "cell_type": "markdown",
      "source": [
        "### List comprehension\n",
        "\n",
        "Many of you resisted my recommendation to use list comprehensions in the previous assignment, and so my hand is forced.  You made me require it.\n",
        "\n",
        "\n",
        "Problem 1.  For each function you write below, you may assume the list being sent to the function will contain the appropriate data type.\n",
        "\n",
        "Use list comprehensions to create a function that will take a list `l` and return . . ."
      ],
      "metadata": {
        "id": "eBJulsWBngse"
      }
    },
    {
      "cell_type": "markdown",
      "source": [
        "(a) . . . a list containing the absolute value of each element of `l`"
      ],
      "metadata": {
        "id": "1h4hKDEqo5T_"
      }
    },
    {
      "cell_type": "code",
      "source": [
        "list1 = [-5, -8, 9, 10, 20, -30, -45, 60, -23]\n",
        "\n",
        "abs_num = [abs(each) for each in list1]\n",
        "print(abs_num)"
      ],
      "metadata": {
        "id": "LNltsHhtngLS",
        "colab": {
          "base_uri": "https://localhost:8080/"
        },
        "outputId": "4d17938c-fc61-471a-8850-792bcdec4776"
      },
      "execution_count": null,
      "outputs": [
        {
          "output_type": "stream",
          "name": "stdout",
          "text": [
            "[5, 8, 9, 10, 20, 30, 45, 60, 23]\n"
          ]
        }
      ]
    },
    {
      "cell_type": "markdown",
      "source": [
        "(b) . . . a list containing `True` for each even number in `l` and `False` for each odd number in `l`"
      ],
      "metadata": {
        "id": "mqIbzaTvpLCV"
      }
    },
    {
      "cell_type": "code",
      "source": [
        "true_false = [each %2 ==0 for each in list1]\n",
        "print(true_false)"
      ],
      "metadata": {
        "id": "0OTpQFX9pK0t",
        "colab": {
          "base_uri": "https://localhost:8080/"
        },
        "outputId": "7def0b2d-d509-4949-d9dd-4a77caac5c76"
      },
      "execution_count": null,
      "outputs": [
        {
          "output_type": "stream",
          "name": "stdout",
          "text": [
            "[False, True, False, True, True, True, False, True, False]\n"
          ]
        }
      ]
    },
    {
      "cell_type": "markdown",
      "source": [
        "(c) . . . a list containing only the numbers in `l` that are divisible by 3"
      ],
      "metadata": {
        "id": "9yqVg2hApUY9"
      }
    },
    {
      "cell_type": "code",
      "source": [
        "divide_by_3 = [each for each in list1 if each % 3 == 0]\n",
        "print(divide_by_3)"
      ],
      "metadata": {
        "id": "2mP_1aYZpUF4",
        "colab": {
          "base_uri": "https://localhost:8080/"
        },
        "outputId": "d8c961a8-25c7-4da7-ab48-fd6b168171bb"
      },
      "execution_count": null,
      "outputs": [
        {
          "output_type": "stream",
          "name": "stdout",
          "text": [
            "[9, -30, -45, 60]\n"
          ]
        }
      ]
    },
    {
      "cell_type": "markdown",
      "source": [
        "(d) . . . a list containing only the words in `l` whose first and last letters are the same"
      ],
      "metadata": {
        "id": "2yClgYZupef1"
      }
    },
    {
      "cell_type": "code",
      "source": [
        "list2 = ['hello', 'window', 'mother', 'school', 'eclipse', 'sounds', 'igloo']\n",
        "matching = [each for each in list2 if each[0] == each[-1]]\n",
        "print(matching)"
      ],
      "metadata": {
        "id": "-l7XnemMpeCi",
        "colab": {
          "base_uri": "https://localhost:8080/"
        },
        "outputId": "eed6fceb-6890-4769-9cd5-d48599de73ee"
      },
      "execution_count": null,
      "outputs": [
        {
          "output_type": "stream",
          "name": "stdout",
          "text": [
            "['window', 'eclipse', 'sounds']\n"
          ]
        }
      ]
    },
    {
      "cell_type": "markdown",
      "source": [
        "(e) . . . a list containing the first letter of each word in `l` that ends with a vowel"
      ],
      "metadata": {
        "id": "1mqMysFKppZS"
      }
    },
    {
      "cell_type": "code",
      "source": [
        "vowels = 'aeiou'\n",
        "first = [each[0] for each in list2 if each[-1] in vowels]\n",
        "print(first)"
      ],
      "metadata": {
        "id": "1Gi3andbppDc",
        "colab": {
          "base_uri": "https://localhost:8080/"
        },
        "outputId": "c0bf84c9-bfd8-47d9-d190-8e1592143227"
      },
      "execution_count": null,
      "outputs": [
        {
          "output_type": "stream",
          "name": "stdout",
          "text": [
            "['h', 'e', 'i']\n"
          ]
        }
      ]
    },
    {
      "cell_type": "markdown",
      "source": [
        "### Multiplication as a recursive process\n",
        "Problem 2.  Write a recursive function that computes the product of two positive integers `a` and `b` by adding `a` to itself `b` times.\n",
        "\n",
        "Hints:  \n",
        "1. if `b=1` then the product is `a`.\n",
        "2. if `b>1` then the product is what you get by adding `a` to `a * (b-1)`.\n",
        "\n",
        "Note:  the purpose of this exercise is to practice writing recursive functions.  Of course you can trivially ask for `a*b` and get the correct answer but that is worth no points.  Your function should not use any multiplications.\n"
      ],
      "metadata": {
        "id": "iV4ysawxjsiE"
      }
    },
    {
      "cell_type": "code",
      "execution_count": null,
      "metadata": {
        "id": "wc9Y1d7ejrvH",
        "colab": {
          "base_uri": "https://localhost:8080/"
        },
        "outputId": "8222c8ca-ec60-4418-ca71-36f72e7e87d0"
      },
      "outputs": [
        {
          "output_type": "stream",
          "name": "stdout",
          "text": [
            "30\n"
          ]
        }
      ],
      "source": [
        "def multiply(a, b):\n",
        "  value = 0\n",
        "  for i in range(b):\n",
        "    value += a\n",
        "    #print(value) #This print statement shows the changes as the loop continues\n",
        "  return value\n",
        "'''this function works by adding a to itself for the value number of b. or basically the range of b.\n",
        "Therefore, the loop repeats the same number of times as b.'''\n",
        "a = 5\n",
        "b = 6\n",
        "result = multiply(a, b)\n",
        "print(result)\n",
        "\n"
      ]
    },
    {
      "cell_type": "markdown",
      "source": [
        "### Division as a recursive process\n",
        "\n",
        "Problem 3:  Write a recursive function that takes two positive integers `a` and `b` and returns the quotient `q` and remainder `r` obtained when `a` is divided by `b`.\n",
        "\n",
        "Hints:  \n",
        "1. If `a<b` then what should `q` and `r` be?\n",
        "\n",
        "2. If `a>b` then think about how `q` and `r` are related to the values you would get from dividing `a-b` by `b`."
      ],
      "metadata": {
        "id": "A5xI1LxDkxn0"
      }
    },
    {
      "cell_type": "code",
      "source": [],
      "metadata": {
        "id": "_3aRmkgJkxUW"
      },
      "execution_count": null,
      "outputs": []
    },
    {
      "cell_type": "code",
      "execution_count": null,
      "metadata": {
        "colab": {
          "base_uri": "https://localhost:8080/"
        },
        "outputId": "95a230a7-f343-4b55-e509-f65bf4d249bd",
        "id": "NZsLEKFF1ycA"
      },
      "outputs": [
        {
          "output_type": "stream",
          "name": "stdout",
          "text": [
            "(6, 2)\n"
          ]
        }
      ],
      "source": [
        "def divide(a, b):\n",
        "    q = 0\n",
        "    r = a\n",
        "    while a >= b:\n",
        "        a -= b\n",
        "        r -= b\n",
        "        q += 1\n",
        "    return q, r\n",
        "'''this function works by initializing a quotient value and a remainder value.\n",
        "it then uses a while loop to see when a is greater than or equal to b because if it was otherwise, we wouldnt have nice division.\n",
        "it then returns the quotient and the remainder value.\n",
        "\n",
        "So far, I was unable to code it such that decimals are produced. '''\n",
        "a = 20\n",
        "b = 3\n",
        "result = divide(a, b)\n",
        "print(result)"
      ]
    },
    {
      "cell_type": "markdown",
      "source": [
        "### The dot product of two vectors\n",
        "\n",
        "Problem 4.  Write a recursive function `dot()` that takes two lists of numbers, of equal length, and returns the sum of the products of the elements of the same index from each list. For example, if `V=[1,2,3]` and `W=[4,5,6]` then the function should return the value $(1 \\cdot 4) + (2\\cdot 5) + (3\\cdot 6)$, which equals 32.  In physics and linear algebra, this is called the \"dot product\" of the vectors `V` and `W`.\n",
        "\n",
        "Other examples:\n",
        "```\n",
        "dot([3],[4])\n",
        "12\n",
        "\n",
        "dot([1,1,0],[2,7,17])\n",
        "9\n",
        "```\n",
        "Hints:\n",
        "1. How is `dot(V,W)` related to `dot(V[1:],W[1:])`?\n",
        "2. What should happen if the lists are empty?"
      ],
      "metadata": {
        "id": "OkBK7gvglJ3u"
      }
    },
    {
      "cell_type": "code",
      "source": [
        "def dotproduct(V, W, index=0):\n",
        "    if index >= len(V):\n",
        "        return 0\n",
        "    new_product = V[index] * W[index]\n",
        "    return new_product + dotproduct(V, W, index + 1)\n",
        "'''this looks at the index of each of the vectors before multiplying the values.\n",
        "the return statement then looks at the next index to continue the multiplcation.\n",
        "The if statement will terminate the recursive function when the index reaches the end of the first vector list.\n",
        "if the lists are empty, the dot product value is 0. '''\n",
        "\n",
        "V = [2, 3, 4]\n",
        "W = [1,3, 5]\n",
        "result = dotproduct(V, W)\n",
        "print(result)\n"
      ],
      "metadata": {
        "id": "LZXs6lkslJqm",
        "colab": {
          "base_uri": "https://localhost:8080/"
        },
        "outputId": "b96fdfb7-af7a-47f0-e2e0-390aae34ce58"
      },
      "execution_count": 68,
      "outputs": [
        {
          "output_type": "stream",
          "name": "stdout",
          "text": [
            "31\n"
          ]
        }
      ]
    }
  ]
}