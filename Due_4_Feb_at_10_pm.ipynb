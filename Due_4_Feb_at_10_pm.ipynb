{
  "nbformat": 4,
  "nbformat_minor": 0,
  "metadata": {
    "colab": {
      "provenance": [],
      "include_colab_link": true
    },
    "kernelspec": {
      "name": "python3",
      "display_name": "Python 3"
    },
    "language_info": {
      "name": "python"
    }
  },
  "cells": [
    {
      "cell_type": "markdown",
      "metadata": {
        "id": "view-in-github",
        "colab_type": "text"
      },
      "source": [
        "<a href=\"https://colab.research.google.com/github/KTeswar15/Programming-for-DS/blob/main/Due_4_Feb_at_10_pm.ipynb\" target=\"_parent\"><img src=\"https://colab.research.google.com/assets/colab-badge.svg\" alt=\"Open In Colab\"/></a>"
      ]
    },
    {
      "cell_type": "markdown",
      "source": [
        "## DS 1002 homework due Sunday Feb 4 at 10 pm\n"
      ],
      "metadata": {
        "id": "zAw2bmn-TjFJ"
      }
    },
    {
      "cell_type": "markdown",
      "source": [
        "\n",
        "The notebook from Wednesday's class is in my GitHib repository, including the little script we wrote at the end to find mangos in a list of fruit.  The file is called `MorePythonBasics.ipynb`.\n",
        "\n",
        "(By the way I wondered if the correct spelling was \"mangos\" or \"mangoes\" and I found [this](https://www.mango.org/blog-mangos-or-mangoes/)!  Who knew?  There's a National Mango Board!  And they're prepared to adjudicate this and other difficult mango-related questions.)\n",
        "\n",
        "\n"
      ],
      "metadata": {
        "id": "Cmf4xleCSWCu"
      }
    },
    {
      "cell_type": "markdown",
      "source": [
        "### Problem 1:  finding fruit\n",
        "\n",
        "Adapt the function we wrote in class so that it takes two arguments,\n",
        "\n",
        "`fruit` and `hungryfor` ,\n",
        "\n",
        "and then searches through the list `fruit` for the item `hungryfor`.  The line that calls the function should look like\n",
        "\n",
        "`find_fruit(food, hungryfor)`\n",
        "\n",
        "Make it print out the results in the same way, so for example if `food` is what we entered in class and `hungryfor = \"tomatoes\"` then the output will be\n",
        "\n",
        "```python\n",
        "No tomatoes here.\n",
        "No tomatoes here.\n",
        "No tomatoes here.\n",
        "No tomatoes here.\n",
        "No tomatoes here.\n",
        "```\n",
        "Test your code by changing the values of `food` and `hungryfor` and make sure the output is what you expect.  Show a few outputs, each in its own code chunk.\n",
        "\n"
      ],
      "metadata": {
        "id": "rJLyGryAThhp"
      }
    },
    {
      "cell_type": "code",
      "source": [
        "# put code here\n",
        "food = [\"apple\", \"pineapple\", \"banana\", \"mangos\", \"watermelon\", \"orange\"]\n",
        "hungryfor= \"mangos\"\n",
        "hungryforpineapple= \"pineapple\"\n",
        "def find_fruit(food, hungryfor):\n",
        "  for each in food:\n",
        "    if each == hungryfor:\n",
        "      print(\"Hooray! I found \" +hungryfor+ \"!\")\n",
        "    else:\n",
        "      print(\"no \" +hungryfor+ \" here.\")"
      ],
      "metadata": {
        "id": "YXwLLFCt6H2f"
      },
      "execution_count": 15,
      "outputs": []
    },
    {
      "cell_type": "code",
      "source": [
        "# put your first function call here, and make more code chunks for additional function calls\n",
        "find_fruit(food, hungryfor)\n",
        "print()\n",
        "find_fruit(food, hungryforpineapple)"
      ],
      "metadata": {
        "id": "bYdqsfrh6KnE",
        "outputId": "8c2c5d69-db91-4737-c071-22946af74821",
        "colab": {
          "base_uri": "https://localhost:8080/"
        }
      },
      "execution_count": 16,
      "outputs": [
        {
          "output_type": "stream",
          "name": "stdout",
          "text": [
            "no mangos here.\n",
            "no mangos here.\n",
            "no mangos here.\n",
            "Hooray! I found mangos!\n",
            "no mangos here.\n",
            "no mangos here.\n",
            "\n",
            "no pineapple here.\n",
            "Hooray! I found pineapple!\n",
            "no pineapple here.\n",
            "no pineapple here.\n",
            "no pineapple here.\n",
            "no pineapple here.\n"
          ]
        }
      ]
    },
    {
      "cell_type": "markdown",
      "source": [
        "#### Notes\n",
        "1. Once you have run a code chunk in the notebook, it will remember that it has been run.  You don't have to call the function in the same code chunk where the function is defined.  In other words, to call the function with new inputs you can simply make a new code chunk, change the inputs, and call the function.  *You don't have to retype the definition of the function each time.*\n",
        "\n",
        "2. Make sure you clean things up when you're done, so you don't include old code that doesn't work or old incorrect outputs.\n"
      ],
      "metadata": {
        "id": "AMp-a1ym6W7w"
      }
    },
    {
      "cell_type": "markdown",
      "source": [
        "### Problem 2:  the `input()` function\n",
        "\n",
        "(a) Programming gets way more fun when you start to interact with your own programs!  Here is a function that lets you start doing that.  Run the following code and see what happens:\n"
      ],
      "metadata": {
        "id": "R-s9cZ6GYWNX"
      }
    },
    {
      "cell_type": "code",
      "source": [
        "input()\n",
        "print(\"Hello there!\")"
      ],
      "metadata": {
        "id": "IEK8O2qNYkXn",
        "outputId": "f7d4a17c-aca6-40b3-8821-63fee5719e75",
        "colab": {
          "base_uri": "https://localhost:8080/"
        }
      },
      "execution_count": 17,
      "outputs": [
        {
          "output_type": "stream",
          "name": "stdout",
          "text": [
            "what is up\n",
            "Hello there!\n"
          ]
        }
      ]
    },
    {
      "cell_type": "markdown",
      "source": [
        "(b) As you just saw, the code waits for you to enter something before it continues.  If you want to actually use the input in the code, you should assign its value to a variable:"
      ],
      "metadata": {
        "id": "sktZu8wWzFF6"
      }
    },
    {
      "cell_type": "code",
      "source": [
        "message = input()\n",
        "print(message)"
      ],
      "metadata": {
        "id": "fMmBkzbyz9Ty",
        "outputId": "de76e7a1-e552-4a79-9d28-a7292f8c3188",
        "colab": {
          "base_uri": "https://localhost:8080/"
        }
      },
      "execution_count": 18,
      "outputs": [
        {
          "output_type": "stream",
          "name": "stdout",
          "text": [
            "what is up\n",
            "what is up\n"
          ]
        }
      ]
    },
    {
      "cell_type": "markdown",
      "source": [
        "(c) Now you can start interacting.  Write some code that asks the user what they are hungry for (using a print statement), and then takes the user input, and then runs the `find_fruit` function from the previous code block using the user input as the `hungryfor` variable.  Test your code, and then include a few different outputs that demonstrate that the code works."
      ],
      "metadata": {
        "id": "ny41z-dQYmjQ"
      }
    },
    {
      "cell_type": "code",
      "source": [
        "# put code here\n",
        "hungryfor = str(input(\"what are you hungry for? \"))\n",
        "find_fruit(food, hungryfor)\n",
        "print()\n",
        "\n",
        "\n"
      ],
      "metadata": {
        "id": "SKAVoAZ00xOx",
        "outputId": "b294850f-3e49-404b-fdbf-c3bfd21a5c15",
        "colab": {
          "base_uri": "https://localhost:8080/"
        }
      },
      "execution_count": 24,
      "outputs": [
        {
          "output_type": "stream",
          "name": "stdout",
          "text": [
            "what are you hungry for? pineapple\n",
            "no pineapple here.\n",
            "Hooray! I found pineapple!\n",
            "no pineapple here.\n",
            "no pineapple here.\n",
            "no pineapple here.\n",
            "no pineapple here.\n",
            "\n"
          ]
        }
      ]
    },
    {
      "cell_type": "code",
      "source": [
        "# run it here, and add more code chunks for more runs\n",
        "hungryfor = str(input(\"what are you hungry for? \"))\n",
        "find_fruit(food, hungryfor)\n",
        "print()\n",
        "hungryfor = str(input(\"what are you hungry for? \"))\n",
        "find_fruit(food, hungryfor)\n",
        "print()\n",
        "hungryfor = str(input(\"what are you hungry for? \"))\n",
        "find_fruit(food, hungryfor)\n",
        "print()"
      ],
      "metadata": {
        "id": "sQQVP1oa5dR7",
        "outputId": "baae321b-d1c7-4de7-86f2-b475b91e1db7",
        "colab": {
          "base_uri": "https://localhost:8080/"
        }
      },
      "execution_count": 26,
      "outputs": [
        {
          "output_type": "stream",
          "name": "stdout",
          "text": [
            "what are you hungry for? kiwi\n",
            "no kiwi here.\n",
            "no kiwi here.\n",
            "no kiwi here.\n",
            "no kiwi here.\n",
            "no kiwi here.\n",
            "no kiwi here.\n",
            "\n",
            "what are you hungry for? orange\n",
            "no orange here.\n",
            "no orange here.\n",
            "no orange here.\n",
            "no orange here.\n",
            "no orange here.\n",
            "Hooray! I found orange!\n",
            "\n",
            "what are you hungry for? banana\n",
            "no banana here.\n",
            "no banana here.\n",
            "Hooray! I found banana!\n",
            "no banana here.\n",
            "no banana here.\n",
            "no banana here.\n",
            "\n"
          ]
        }
      ]
    },
    {
      "cell_type": "markdown",
      "source": [
        "### Problem 3:  ratings  \n",
        "Write a piece of code which prompts a user with the question \"What is your rating? (1-10)\" and then asks for user input.  Let's say the input is 3.  Once the input is received, print out a message that says.\n",
        "\n",
        "\"Your rating is *** .\"\n",
        "\n",
        "Obviously, your program should print the number of stars corresponding to the input!  If the input is 5, it should print\n",
        "\n",
        "\"Your rating is ***** .\"\n",
        "\n",
        "Show at least two outputs of your code."
      ],
      "metadata": {
        "id": "5CWOlHBz0xoZ"
      }
    },
    {
      "cell_type": "code",
      "source": [
        "# put code here\n",
        "rating = int(input(\"what is your rating? (1-10)\"))\n",
        "\n",
        "def starRate(rating):\n",
        "  num = \"\"\n",
        "  for i in range(rating):\n",
        "    num += \"*\"\n",
        "  print(\"Your rating is \" +num)\n",
        "\n",
        "starRate(rating)\n"
      ],
      "metadata": {
        "id": "MCWnTAUW2Gin",
        "outputId": "c1d54723-805d-43dd-fe87-c67b7b6be923",
        "colab": {
          "base_uri": "https://localhost:8080/"
        }
      },
      "execution_count": 46,
      "outputs": [
        {
          "output_type": "stream",
          "name": "stdout",
          "text": [
            "what is your rating? (1-10)3\n",
            "Your rating is ***\n"
          ]
        }
      ]
    },
    {
      "cell_type": "code",
      "source": [
        "# you might have to copy the code to show another output\n",
        "# (unless you figure out another way to do it)\n",
        "rating = int(input(\"what is your rating? (1-10)\"))\n",
        "starRate(rating)\n",
        "\n",
        "rating = int(input(\"what is your rating? (1-10)\"))\n",
        "starRate(rating)\n"
      ],
      "metadata": {
        "id": "nxm67oCk8Ukn",
        "outputId": "c7fc3369-dfb9-4260-efe7-f623790690b6",
        "colab": {
          "base_uri": "https://localhost:8080/"
        }
      },
      "execution_count": 47,
      "outputs": [
        {
          "output_type": "stream",
          "name": "stdout",
          "text": [
            "what is your rating? (1-10)4\n",
            "Your rating is ****\n",
            "what is your rating? (1-10)6\n",
            "Your rating is ******\n"
          ]
        }
      ]
    },
    {
      "cell_type": "markdown",
      "source": [
        "You do not have to do this as part of the assignment, but one thing to think about with any code that has **interactivity** is that you want to make it **robust**.  This means you should imagine someone is *trying* to break your code, and you should try to make it as indestructible as possible.\n",
        "\n",
        "What will happen to your code if someone enters 3.5?  Or -12?  Or \"nonsense\"?  Test it and see.  Think about how you might guard against errors.\n"
      ],
      "metadata": {
        "id": "VRfc9puT2yac"
      }
    }
  ]
}