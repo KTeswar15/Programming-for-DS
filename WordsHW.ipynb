{
  "nbformat": 4,
  "nbformat_minor": 0,
  "metadata": {
    "colab": {
      "provenance": [],
      "authorship_tag": "ABX9TyNB9hx33yMx0Efvg4wPsRWD",
      "include_colab_link": true
    },
    "kernelspec": {
      "name": "python3",
      "display_name": "Python 3"
    },
    "language_info": {
      "name": "python"
    }
  },
  "cells": [
    {
      "cell_type": "markdown",
      "metadata": {
        "id": "view-in-github",
        "colab_type": "text"
      },
      "source": [
        "<a href=\"https://colab.research.google.com/github/KTeswar15/Programming-for-DS/blob/main/WordsHW.ipynb\" target=\"_parent\"><img src=\"https://colab.research.google.com/assets/colab-badge.svg\" alt=\"Open In Colab\"/></a>"
      ]
    },
    {
      "cell_type": "code",
      "execution_count": null,
      "metadata": {
        "colab": {
          "base_uri": "https://localhost:8080/"
        },
        "id": "3gqG0qNIJUgc",
        "outputId": "83b849c5-edb9-4049-9ab1-2573c8c791f6"
      },
      "outputs": [
        {
          "output_type": "stream",
          "name": "stdout",
          "text": [
            "Collecting english_words\n",
            "  Downloading english-words-2.0.1.tar.gz (8.2 MB)\n",
            "\u001b[2K     \u001b[90m━━━━━━━━━━━━━━━━━━━━━━━━━━━━━━━━━━━━━━━━\u001b[0m \u001b[32m8.2/8.2 MB\u001b[0m \u001b[31m12.3 MB/s\u001b[0m eta \u001b[36m0:00:00\u001b[0m\n",
            "\u001b[?25h  Installing build dependencies ... \u001b[?25l\u001b[?25hdone\n",
            "  Getting requirements to build wheel ... \u001b[?25l\u001b[?25hdone\n",
            "  Preparing metadata (pyproject.toml) ... \u001b[?25l\u001b[?25hdone\n",
            "Building wheels for collected packages: english_words\n",
            "  Building wheel for english_words (pyproject.toml) ... \u001b[?25l\u001b[?25hdone\n",
            "  Created wheel for english_words: filename=english_words-2.0.1-py3-none-any.whl size=8196238 sha256=188e768cd781a0bc0bdde32e9da7f07e5d705e603b705cad0080789945809239\n",
            "  Stored in directory: /root/.cache/pip/wheels/f0/e6/d9/16a123647999fe535f03a36e7af23eef203736d84c7ca25b0b\n",
            "Successfully built english_words\n",
            "Installing collected packages: english_words\n",
            "Successfully installed english_words-2.0.1\n"
          ]
        }
      ],
      "source": [
        "#Collaborators: Tara ghose\n",
        "!pip install english_words\n",
        "from english_words import get_english_words_set\n",
        "words = get_english_words_set(['web2'], lower=True)"
      ]
    },
    {
      "cell_type": "code",
      "source": [
        "#Question 1\n",
        "#the type of words is a set,\n",
        "#print(type(words)) identifies type of words\n",
        "wordlist = list(words) #changes words from a set into a list\n",
        "print(type(wordlist)) #proves that it has been changed from a set into a list\n",
        "print(len(wordlist)) #gives how big the list of words is"
      ],
      "metadata": {
        "colab": {
          "base_uri": "https://localhost:8080/"
        },
        "id": "tq3TZItkOaWO",
        "outputId": "849a671b-47bf-427c-a9f5-d83d1565ee7e"
      },
      "execution_count": null,
      "outputs": [
        {
          "output_type": "stream",
          "name": "stdout",
          "text": [
            "<class 'list'>\n",
            "234450\n"
          ]
        }
      ]
    },
    {
      "cell_type": "code",
      "source": [
        "#Question 2, print first 10 words in the list\n",
        "first_ten = slice(0,10) #looks at first ten words\n",
        "print(wordlist[first_ten]) #prints first ten words"
      ],
      "metadata": {
        "colab": {
          "base_uri": "https://localhost:8080/"
        },
        "id": "5r0pQoG8POSf",
        "outputId": "f7d8af08-fb6c-4c65-b06e-efc3212e2f75"
      },
      "execution_count": null,
      "outputs": [
        {
          "output_type": "stream",
          "name": "stdout",
          "text": [
            "['unweariness', 'tamburan', 'quegh', 'hoodie', 'annulary', 'surtax', 'puppify', 'makaraka', 'unswelling', 'reubenites']\n"
          ]
        }
      ]
    },
    {
      "cell_type": "code",
      "source": [
        "#Question 3, sort in alphabetical order and print first ten words\n",
        "alpha_list = sorted(wordlist) #sorts the list in alphabetical order\n",
        "print(alpha_list[:10]) #prints first 10 words after put in alphabetical order\n"
      ],
      "metadata": {
        "colab": {
          "base_uri": "https://localhost:8080/"
        },
        "id": "TkouMExVQcJT",
        "outputId": "e5188699-d6d6-4c39-e07c-4bc55bfbd75b"
      },
      "execution_count": null,
      "outputs": [
        {
          "output_type": "stream",
          "name": "stdout",
          "text": [
            "['a', 'aa', 'aal', 'aalii', 'aam', 'aani', 'aardvark', 'aardwolf', 'aaron', 'aaronic']\n"
          ]
        }
      ]
    },
    {
      "cell_type": "code",
      "source": [
        "#Question 4, how many words start with 'a'\n",
        "def word_with_a(wordlist):\n",
        "    count = 0 #set intial count to 0\n",
        "    for word in wordlist:\n",
        "        if word.lower().startswith('a'): #finds how many words start with a\n",
        "            count += 1\n",
        "    return count\n",
        "print(word_with_a(wordlist))\n"
      ],
      "metadata": {
        "colab": {
          "base_uri": "https://localhost:8080/"
        },
        "id": "GVK067DtSkwq",
        "outputId": "007968df-774f-4bb4-89dc-d2f1140154dd"
      },
      "execution_count": null,
      "outputs": [
        {
          "output_type": "stream",
          "name": "stdout",
          "text": [
            "16982\n"
          ]
        }
      ]
    },
    {
      "cell_type": "code",
      "source": [
        "#Question 5, how many words have 'q' in them. how many do NOT have 'e' in them\n",
        "\n",
        "def words_with_q(wordlist):\n",
        "    count = 0\n",
        "    for word in wordlist:\n",
        "        if 'q' in word.lower(): #finds words with q in them\n",
        "            count += 1\n",
        "    return count\n",
        "print(words_with_q(wordlist))\n",
        "\n",
        "def words_without_e(wordlist):\n",
        "  count = 0\n",
        "  for word in wordlist:\n",
        "    if 'e' not in word.lower(): #finds words without e\n",
        "      count += 1\n",
        "    return count\n",
        "print(words_without_e(wordlist))"
      ],
      "metadata": {
        "colab": {
          "base_uri": "https://localhost:8080/"
        },
        "id": "anOpYfd8EWWy",
        "outputId": "97752d3c-b771-45b5-bb2e-52f25545fb4d"
      },
      "execution_count": null,
      "outputs": [
        {
          "output_type": "stream",
          "name": "stdout",
          "text": [
            "3624\n",
            "0\n"
          ]
        }
      ]
    },
    {
      "cell_type": "code",
      "source": [
        "#Question 6, Import numpy and convert your lists to numpy arrays. Also execute the following code:\n",
        "# alphabet = [chr(i) for i in range(ord('a'),ord('z')+1)]\n",
        "# What does this do?\n",
        "\n",
        "import numpy as np\n",
        "\n",
        "new_array = np.array(wordlist)\n",
        "alphabet = [chr(i) for i in range(ord('a'),ord('z')+1)]\n",
        "\n",
        "# the above code changes all the letters to lower case values"
      ],
      "metadata": {
        "id": "ddbvD_9mGQPG"
      },
      "execution_count": null,
      "outputs": []
    },
    {
      "cell_type": "code",
      "source": [
        "#Question 7, Make a bar graph of the number of words starting with each letter.\n",
        "#You will have to import at least one more package to do this. Label the axes and give the whole plot a title.\n",
        "\n",
        "import matplotlib.pyplot as plt\n",
        "from collections import defaultdict\n",
        "\n",
        "def graph(wordlist):\n",
        "    count_by_letter = defaultdict(int)\n",
        "\n",
        "    # Count the number of words associated with each letter\n",
        "    for word in wordlist:\n",
        "        starting_letter = word[0].lower() #looks at the first letter of the word\n",
        "        count_by_letter[starting_letter] += 1 #adds the word to the associated letter\n",
        "\n",
        "    # Sort the letters for plotting\n",
        "    sorted_version = sorted(count_by_letter.keys()) #sorts by theletter\n",
        "    counts = [count_by_letter[letter] for letter in sorted_version]\n",
        "\n",
        "    # Plotting the bar graph\n",
        "    plt.bar(sorted_version, counts, color='pink')\n",
        "    plt.xlabel('Letters')\n",
        "    plt.ylabel('Number of Words')\n",
        "    plt.title('number associated with each starting letter in the wordlist')\n",
        "    plt.show()\n",
        "graph(wordlist)\n"
      ],
      "metadata": {
        "colab": {
          "base_uri": "https://localhost:8080/",
          "height": 472
        },
        "id": "__3d2gdLG5Ge",
        "outputId": "52f86991-d722-4af8-dab0-7b15bccabf08"
      },
      "execution_count": null,
      "outputs": [
        {
          "output_type": "display_data",
          "data": {
            "text/plain": [
              "<Figure size 640x480 with 1 Axes>"
            ],
            "image/png": "[encoded data removed]"
          },
          "metadata": {}
        }
      ]
    },
    {
      "cell_type": "code",
      "source": [
        "#Question 8, find the longest words in the word list, produce 6 of the longest words\n",
        "def six_longest_words(wordlist):\n",
        "  #first sort by length\n",
        "  wordlist = sorted(wordlist, key=len, reverse = True) #sorts words by length and also puts the list in descending order\n",
        "  first_six = wordlist[:6] #takes the first 6 words which is the top 6 longest words\n",
        "  return first_six\n",
        "print(six_longest_words(wordlist))"
      ],
      "metadata": {
        "colab": {
          "base_uri": "https://localhost:8080/"
        },
        "id": "W4CdzK-FKMvs",
        "outputId": "a0a72bd6-8432-4ce2-ef93-a1486547775b"
      },
      "execution_count": null,
      "outputs": [
        {
          "output_type": "stream",
          "name": "stdout",
          "text": [
            "['antidisestablishmentarianism', 'pathologicopsychological', 'thyroparathyroidectomize', 'tetraiodophenolphthalein', 'scientificophilosophical', 'formaldehydesulphoxylate']\n"
          ]
        }
      ]
    },
    {
      "cell_type": "code",
      "source": [
        "#Question 9, histogram of number of words of each length. Find most common length\n",
        "\n",
        "def histogram(wordlist):\n",
        "    wordlength = [len(word) for word in wordlist] #finds length of a given word\n",
        "\n",
        "    # Plotting the histogram\n",
        "    plt.hist(wordlength, bins=range(min(wordlength), max(wordlength) + 1), color='pink', edgecolor='red')\n",
        "    plt.xlabel('length')\n",
        "    plt.ylabel('number of words')\n",
        "    plt.title('length of words vs. number of words')\n",
        "    plt.show()\n",
        "histogram(wordlist)\n",
        "#most common length of a word is about 10 characters"
      ],
      "metadata": {
        "colab": {
          "base_uri": "https://localhost:8080/",
          "height": 472
        },
        "id": "OzNiecj4MSDZ",
        "outputId": "3b60aee8-547e-4b76-ef4d-126673f91c84"
      },
      "execution_count": null,
      "outputs": [
        {
          "output_type": "display_data",
          "data": {
            "text/plain": [
              "<Figure size 640x480 with 1 Axes>"
            ],
            "image/png": "[encoded data removed]"
          },
          "metadata": {}
        }
      ]
    },
    {
      "cell_type": "code",
      "source": [
        "#Question 10, find words with v and a and find words with w and i\n",
        "def v_and_a(wordlist):\n",
        "    count = 0\n",
        "    for word in wordlist:\n",
        "        if 'v' in word.lower() and 'a' in word.lower(): #finds words with each letter\n",
        "            count += 1 #counts the words\n",
        "    return count\n",
        "print(\"number of words with v and a is\", v_and_a(wordlist))\n",
        "def w_and_i(wordlist):\n",
        "    count = 0\n",
        "    for word in wordlist:\n",
        "        if 'w' in word.lower() and 'i' in word.lower():#finds words with each letter\n",
        "            count += 1 #counts the words\n",
        "    return count\n",
        "print(\"number of words with w and i is\" ,w_and_i(wordlist))\n",
        "\n",
        "#this took 0 seconds to run"
      ],
      "metadata": {
        "colab": {
          "base_uri": "https://localhost:8080/"
        },
        "id": "0ULDOQDwR6I-",
        "outputId": "64a1e02e-0523-4fad-d032-c68f16d91641"
      },
      "execution_count": null,
      "outputs": [
        {
          "output_type": "stream",
          "name": "stdout",
          "text": [
            "number of words with v and a is 11347\n",
            "number of words with w and i is 5689\n"
          ]
        }
      ]
    },
    {
      "cell_type": "code",
      "source": [
        "\n"
      ],
      "metadata": {
        "id": "tWSAYuE7La63"
      },
      "execution_count": null,
      "outputs": []
    }
  ]
}