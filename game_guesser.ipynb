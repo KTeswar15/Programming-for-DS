{
  "cells": [
    {
      "cell_type": "markdown",
      "metadata": {
        "id": "view-in-github",
        "colab_type": "text"
      },
      "source": [
        "<a href=\"https://colab.research.google.com/github/KTeswar15/Programming-for-DS/blob/main/game_guesser.ipynb\" target=\"_parent\"><img src=\"https://colab.research.google.com/assets/colab-badge.svg\" alt=\"Open In Colab\"/></a>"
      ]
    },
    {
      "cell_type": "code",
      "execution_count": null,
      "metadata": {
        "id": "miI2h4elIYja"
      },
      "outputs": [],
      "source": [
        "#Keerthana Eswarapragada csr8ct GameGuesser\n",
        "\n",
        "import random\n",
        "compNum= (random.randint(1,100)) #keeps the randomly selected number\n",
        "#print(compNum)\n",
        "\n",
        "\n",
        "userNum= (int(input(\"enter a number between 1 and 100: \"))) #user number that they guessed\n",
        "#while userNum.type==int:\n",
        "while userNum!=compNum:\n",
        "  if userNum>=1 and userNum<=100:\n",
        "    if userNum == compNum:\n",
        "      print(\"good job\")\n",
        "\n",
        "    elif userNum>compNum:\n",
        "      print(\"too high\")\n",
        "      #print(compNum)\n",
        "      userNum= (int(input(\"enter a number between 1 and 100: \")))\n",
        "\n",
        "    elif userNum<compNum:\n",
        "        print(\"too low\")\n",
        "        #print(compNum)\n",
        "        userNum= (int(input(\"enter a number between 1 and 100: \")))\n",
        "\n",
        "  else:\n",
        "    print(\"only use numbers within 1 and 100\")\n",
        "    userNum= (int(input(\"enter a number between 1 and 100: \")))\n",
        "else:\n",
        "  print(\"Good Job\")\n",
        "\n"
      ]
    }
  ],
  "metadata": {
    "colab": {
      "provenance": [],
      "authorship_tag": "ABX9TyNNP4aTlORbpVokd4OuqRzK",
      "include_colab_link": true
    },
    "kernelspec": {
      "display_name": "Python 3",
      "name": "python3"
    },
    "language_info": {
      "name": "python"
    }
  },
  "nbformat": 4,
  "nbformat_minor": 0
}