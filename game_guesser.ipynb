{
  "cells": [
    {
      "cell_type": "markdown",
      "metadata": {
        "id": "view-in-github",
        "colab_type": "text"
      },
      "source": [
        "<a href=\"https://colab.research.google.com/github/KTeswar15/Programming-for-DS/blob/main/game_guesser.ipynb\" target=\"_parent\"><img src=\"https://colab.research.google.com/assets/colab-badge.svg\" alt=\"Open In Colab\"/></a>"
      ]
    },
    {
      "cell_type": "code",
      "execution_count": null,
      "metadata": {
        "colab": {
          "base_uri": "https://localhost:8080/"
        },
        "id": "miI2h4elIYja",
        "outputId": "b52ddd22-1f16-4b0b-dec2-096567a9aabb"
      },
      "outputs": [
        {
          "output_type": "stream",
          "name": "stdout",
          "text": [
            "enter a number between 1 and 100: 50\n",
            "too low\n",
            "enter a number between 1 and 100: 60\n",
            "too low\n",
            "enter a number between 1 and 100: 70\n",
            "too low\n",
            "enter a number between 1 and 100: 90\n",
            "too high\n",
            "enter a number between 1 and 100: 88\n",
            "too high\n",
            "enter a number between 1 and 100: 78\n",
            "too high\n",
            "enter a number between 1 and 100: 75\n",
            "too low\n",
            "enter a number between 1 and 100: 76\n",
            "too low\n",
            "enter a number between 1 and 100: 77\n",
            "Good Job\n"
          ]
        }
      ],
      "source": [
        "#Keerthana Eswarapragada csr8ct GameGuesser\n",
        "\n",
        "import random\n",
        "compNum= (random.randint(1,100)) #keeps the randomly selected number\n",
        "#print(compNum)\n",
        "\n",
        "\n",
        "userNum= (int(input(\"enter a number between 1 and 100: \"))) #user number that they guessed\n",
        "#while userNum.type==int:\n",
        "while userNum!=compNum:\n",
        "  if userNum>=1 and userNum<=100:\n",
        "    if userNum == compNum:\n",
        "      print(\"good job\")\n",
        "\n",
        "    elif userNum>compNum:\n",
        "      print(\"too high\")\n",
        "      #print(compNum)\n",
        "      userNum= (int(input(\"enter a number between 1 and 100: \")))\n",
        "\n",
        "    elif userNum<compNum:\n",
        "        print(\"too low\")\n",
        "        #print(compNum)\n",
        "        userNum= (int(input(\"enter a number between 1 and 100: \")))\n",
        "\n",
        "  else:\n",
        "    print(\"only use numbers within 1 and 100\")\n",
        "    userNum= (int(input(\"enter a number between 1 and 100: \")))\n",
        "else:\n",
        "  print(\"Good Job\")\n",
        "\n"
      ]
    }
  ],
  "metadata": {
    "colab": {
      "provenance": [],
      "authorship_tag": "ABX9TyNNP4aTlORbpVokd4OuqRzK",
      "include_colab_link": true
    },
    "kernelspec": {
      "display_name": "Python 3",
      "name": "python3"
    },
    "language_info": {
      "name": "python"
    }
  },
  "nbformat": 4,
  "nbformat_minor": 0
}