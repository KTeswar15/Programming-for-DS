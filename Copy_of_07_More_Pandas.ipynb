{
  "nbformat": 4,
  "nbformat_minor": 0,
  "metadata": {
    "colab": {
      "provenance": [],
      "include_colab_link": true
    },
    "kernelspec": {
      "name": "python3",
      "display_name": "Python 3"
    },
    "language_info": {
      "name": "python"
    }
  },
  "cells": [
    {
      "cell_type": "markdown",
      "metadata": {
        "id": "view-in-github",
        "colab_type": "text"
      },
      "source": [
        "<a href=\"https://colab.research.google.com/github/KTeswar15/Programming-for-DS/blob/main/Copy_of_07_More_Pandas.ipynb\" target=\"_parent\"><img src=\"https://colab.research.google.com/assets/colab-badge.svg\" alt=\"Open In Colab\"/></a>"
      ]
    },
    {
      "cell_type": "markdown",
      "source": [
        "# More pandas exercises\n",
        "\n",
        "Create a Colab notebook. Complete the tasks as specified in the directions. Run each cell to return the desired output. Save your notebook back to your GitHub repository and submit the GitHub URL for your notebook for review."
      ],
      "metadata": {
        "id": "phbaQTT5gy8A"
      }
    },
    {
      "cell_type": "markdown",
      "source": [
        "1.  Load the following dataset into Colab and perform the requested operations in code.\n",
        "\n",
        " Source: https://ds1002-resources.s3.amazonaws.com/data/ride_sharing.csv"
      ],
      "metadata": {
        "id": "WlPHuSLARJBJ"
      }
    },
    {
      "cell_type": "code",
      "source": [
        "# Load pandas and the data\n",
        "\n",
        "import pandas as pd\n",
        "\n",
        "ride_sharing = pd.read_csv('/content/ride_sharing.csv')\n"
      ],
      "metadata": {
        "id": "kdFLCHtOg53p"
      },
      "execution_count": 3,
      "outputs": []
    },
    {
      "cell_type": "code",
      "source": [
        "# show how many rows and columns are in this dataset\n",
        "\n",
        "# print('total:', ride_sharing.shape)\n",
        "# above represents number of rows and columns\n",
        "\n",
        "print('number of rows:', ride_sharing.shape[0])\n",
        "print('number of columns:', ride_sharing.shape[1])\n"
      ],
      "metadata": {
        "id": "Lfh8suAyhKQW",
        "outputId": "4fcb2726-97af-4a28-8752-8d5fbd79884f",
        "colab": {
          "base_uri": "https://localhost:8080/"
        }
      },
      "execution_count": 4,
      "outputs": [
        {
          "output_type": "stream",
          "name": "stdout",
          "text": [
            "number of rows: 25760\n",
            "number of columns: 10\n"
          ]
        }
      ]
    },
    {
      "cell_type": "code",
      "source": [
        "# The first column, \"duration\" is seen as a string.\n",
        "# Using two snippets of code, clean this column up so that\n",
        "# is now an integer (int64)\n",
        "\n",
        "\n",
        "ride_sharing['duration'] = ride_sharing['duration'].astype(str).str.strip(' minutes')\n",
        "ride_sharing['duration'] = ride_sharing['duration'].astype('int')\n",
        "\n",
        "# print(ride_sharing.duration[0])\n",
        "# print(type(ride_sharing.duration[0]))\n",
        "# the print statement verifies if my two lines of code worked, and they did work.\n"
      ],
      "metadata": {
        "id": "KK5-y9nzhMVq"
      },
      "execution_count": 5,
      "outputs": []
    },
    {
      "cell_type": "code",
      "source": [
        "# Now display the datatypes in the updated dataframe\n",
        "\n",
        "print(ride_sharing.dtypes)\n"
      ],
      "metadata": {
        "id": "QyGJUshvhz1J",
        "colab": {
          "base_uri": "https://localhost:8080/"
        },
        "outputId": "7fcf6593-42e1-41e8-b048-6838f0896d3c"
      },
      "execution_count": 6,
      "outputs": [
        {
          "output_type": "stream",
          "name": "stdout",
          "text": [
            "duration            int64\n",
            "station_A_id        int64\n",
            "station_A_name     object\n",
            "station_B_id        int64\n",
            "station_B_name     object\n",
            "bike_id             int64\n",
            "user_type           int64\n",
            "user_birth_year     int64\n",
            "user_gender        object\n",
            "tire_size           int64\n",
            "dtype: object\n"
          ]
        }
      ]
    },
    {
      "cell_type": "code",
      "source": [
        "# Show the min and max values of ride durations (the shortest and longest rides)\n",
        "# Hint: If 'df' is the name of your dataframe, simply specify the column name\n",
        "# and then append the .min() or .max() methods.\n",
        "\n",
        "print(\"longest duration:\" , ride_sharing.duration.max())\n",
        "print('shortest duration:', ride_sharing.duration.min())\n"
      ],
      "metadata": {
        "id": "UCA1OswWh5b5",
        "colab": {
          "base_uri": "https://localhost:8080/"
        },
        "outputId": "604df08f-d0ee-4830-f1fc-2cb93657eb26"
      },
      "execution_count": 7,
      "outputs": [
        {
          "output_type": "stream",
          "name": "stdout",
          "text": [
            "longest duration: 1372\n",
            "shortest duration: 1\n"
          ]
        }
      ]
    },
    {
      "cell_type": "code",
      "source": [
        "# Create a new dataframe object and populate it with rides that are 60 minutes or less.\n",
        "# Hint: Use the .query() method for the dataframe that we used in class.\n",
        "\n",
        "new_data = ride_sharing[ride_sharing['duration']<=60]\n",
        "\n",
        "# print(new_data.duration.shape)\n",
        "#print statement was used to confirm if the number of rows in duration column decreaes based on the filter\n"
      ],
      "metadata": {
        "id": "K7mStv5kibbA"
      },
      "execution_count": 8,
      "outputs": []
    },
    {
      "cell_type": "code",
      "source": [
        "# Now show both the min and max values of the duration column for your new dataset.\n",
        "\n",
        "print('longest wait time under 60 min:', new_data.duration.max())\n",
        "print('shortest wait time under 60 min:', new_data.duration.min())\n",
        "\n"
      ],
      "metadata": {
        "id": "v63UdQjNi-w5",
        "colab": {
          "base_uri": "https://localhost:8080/"
        },
        "outputId": "de47fd76-ccd6-4036-c47a-bc49ae4fbbdd"
      },
      "execution_count": 9,
      "outputs": [
        {
          "output_type": "stream",
          "name": "stdout",
          "text": [
            "longest wait time under 60 min: 60\n",
            "shortest wait time under 60 min: 1\n"
          ]
        }
      ]
    },
    {
      "cell_type": "code",
      "source": [
        "# Using the new dataframe, update it so that is ONLY has records where\n",
        "# the tire_size is 26.\n",
        "\n",
        "new_data = new_data[new_data['tire_size']==26]\n",
        "\n",
        "#print(new_data.tire_size)\n",
        "#print statment used to verify if the code worked"
      ],
      "metadata": {
        "id": "xTzb_j9rjGk2"
      },
      "execution_count": 10,
      "outputs": []
    },
    {
      "cell_type": "code",
      "source": [
        "# Finally, produce a count of all records with FEMALE riders\n",
        "# using the 26-inch wheeled rental bikes for their rentals of\n",
        "# one hour or less.\n",
        "females = ride_sharing[ride_sharing['user_gender']==\"Female\"].shape[0]\n",
        "print('number of female riders using a 26 inch wheel for one hour or less:' , females)"
      ],
      "metadata": {
        "id": "0cwbfj66jrG9",
        "colab": {
          "base_uri": "https://localhost:8080/"
        },
        "outputId": "20f3081b-e54b-451f-cc62-92b57097c501"
      },
      "execution_count": 11,
      "outputs": [
        {
          "output_type": "stream",
          "name": "stdout",
          "text": [
            "number of female riders using a 26 inch wheel for one hour or less: 6027\n"
          ]
        }
      ]
    },
    {
      "cell_type": "markdown",
      "source": [
        "2. Find the file `more-messy-data.csv` on GitHub and upload it into Google Colab.\n",
        "\n",
        "Create a new Pandas DataFrame from that data and perform the following steps."
      ],
      "metadata": {
        "id": "YIlxzTRQSrl3"
      }
    },
    {
      "cell_type": "code",
      "source": [
        "# Write a snippet of code that will display the number of duplicate rows exist in the DF.\n",
        "import pandas as pd\n",
        "\n",
        "messy_data = pd.read_csv('/content/more-messy-data.csv')\n",
        "\n",
        "duplicates = messy_data.duplicated().sum()\n",
        "print('number of duplicated rows:' , duplicates)\n",
        "#print(messy_data.shape)\n",
        "#incldued this print statement to see how many rows there are"
      ],
      "metadata": {
        "id": "6O1caoy6S82Q",
        "colab": {
          "base_uri": "https://localhost:8080/"
        },
        "outputId": "35b4199b-de73-4aa4-dec4-bb40eeda0c51"
      },
      "execution_count": 12,
      "outputs": [
        {
          "output_type": "stream",
          "name": "stdout",
          "text": [
            "number of duplicated rows: 287\n"
          ]
        }
      ]
    },
    {
      "cell_type": "code",
      "source": [
        "# Next, remove all duplicate rows using Python.\n",
        "\n",
        "no_dupes = messy_data.drop_duplicates()\n",
        "#print(no_dupes.shape)\n",
        "#included this print statement to see if the rows were successfully deleted\n",
        "\n"
      ],
      "metadata": {
        "id": "-pDZ2xA-S8vd"
      },
      "execution_count": 13,
      "outputs": []
    },
    {
      "cell_type": "code",
      "source": [
        "# For the FOUR columns involving sepal and petal length and width, update all NaN\n",
        "# values with the column mean.\n",
        "\n",
        "columns_to_update = ['sepal_length', 'sepal_width', 'petal_length', 'petal_width']\n",
        "\n",
        "# Iterate over each column\n",
        "for column in columns_to_update:\n",
        "    # Calculate the mean of the column\n",
        "    column_mean = no_dupes[column].mean()\n",
        "    # Fill NaN values with the mean\n",
        "    no_dupes[column].fillna(column_mean, inplace=True)\n",
        "\n",
        "# Print the updated DataFrame\n",
        "# print(no_dupes.sepal_length)\n",
        "# print(no_dupes.petal_length)\n",
        "# print(no_dupes.sepal_width)\n",
        "# print(no_dupes.petal_width)\n",
        "#print statemetns were used to verify if the code worked and that there is no more NaN\n",
        "\n"
      ],
      "metadata": {
        "id": "Quf-P7L4S8oh",
        "colab": {
          "base_uri": "https://localhost:8080/"
        },
        "outputId": "562a0022-9463-45aa-9dce-59fc8e5bebd6"
      },
      "execution_count": 25,
      "outputs": [
        {
          "output_type": "stream",
          "name": "stderr",
          "text": [
            "<ipython-input-25-28e54c28a7ec>:11: SettingWithCopyWarning: \n",
            "A value is trying to be set on a copy of a slice from a DataFrame\n",
            "\n",
            "See the caveats in the documentation: https://pandas.pydata.org/pandas-docs/stable/user_guide/indexing.html#returning-a-view-versus-a-copy\n",
            "  no_dupes[column].fillna(column_mean, inplace=True)\n"
          ]
        }
      ]
    },
    {
      "cell_type": "code",
      "source": [
        "# Find any values in the dataframe that are still missing, and delete them.\n",
        "no_dupes_dropped = no_dupes.dropna()"
      ],
      "metadata": {
        "id": "en_ReYsAS8f-"
      },
      "execution_count": 27,
      "outputs": []
    },
    {
      "cell_type": "code",
      "source": [
        "# How many different species are there?\n",
        "# no_dupes_dropped['species'] = no_dupes_dropped['species'].str.lower()\n",
        "unique_species = no_dupes_dropped['species'].nunique()\n",
        "print('number of unique species:' , unique_species)"
      ],
      "metadata": {
        "id": "uqV9IHwDS75a",
        "colab": {
          "base_uri": "https://localhost:8080/"
        },
        "outputId": "1b17c671-e10f-4aba-92b4-ffb73e967097"
      },
      "execution_count": 35,
      "outputs": [
        {
          "output_type": "stream",
          "name": "stdout",
          "text": [
            "number of unique species: 7\n"
          ]
        }
      ]
    },
    {
      "cell_type": "code",
      "source": [
        "# Clean up the 'species' variable so that there are exactly three different values.\n",
        "no_dupes_dropped['species'] = no_dupes_dropped['species'].str.lower()\n",
        "#changes the entire column to lower case values\n",
        "# print(no_dupes_dropped.species)\n",
        "print(no_dupes_dropped['species'].nunique())\n",
        "\n",
        "#was not able to get 3 different value, however the code shows that there are 7 different species"
      ],
      "metadata": {
        "id": "G2j8HDgYT52P",
        "colab": {
          "base_uri": "https://localhost:8080/"
        },
        "outputId": "418c1689-3faa-45c4-9189-db71a305e29d"
      },
      "execution_count": 39,
      "outputs": [
        {
          "output_type": "stream",
          "name": "stdout",
          "text": [
            "7\n"
          ]
        },
        {
          "output_type": "stream",
          "name": "stderr",
          "text": [
            "<ipython-input-39-fa0380e40933>:2: SettingWithCopyWarning: \n",
            "A value is trying to be set on a copy of a slice from a DataFrame.\n",
            "Try using .loc[row_indexer,col_indexer] = value instead\n",
            "\n",
            "See the caveats in the documentation: https://pandas.pydata.org/pandas-docs/stable/user_guide/indexing.html#returning-a-view-versus-a-copy\n",
            "  no_dupes_dropped['species'] = no_dupes_dropped['species'].str.lower()\n"
          ]
        }
      ]
    },
    {
      "cell_type": "markdown",
      "source": [
        "3. Bonus:  Regular expressions\n",
        "\n",
        "Ordinary (non-vanity) Virginia license plates have the form `ABC1234`, meaning they have three upper case letters followed by four digits.  Write a regular expression that matches any string of this form (and doesn't match anything else).  Test your expression with code to make sure it works.\n",
        "\n",
        "To figure out out how to do this, start with the sample code below.  The `re` package has various functions related to regular expressions, including for example `match()`, which takes two arguments, first the regular expression and second the test string, and tests to see whether the *beginning* of the `test` string matches the pattern `exp`.\n",
        "\n",
        "Note that `re.match(exp,test)` does not return a boolean variable, as you might expect (in other words, a match doesn't return `True` and a non-match `False`).  The type of object you get is called `re.Match`, which is a data type special to the `re` package.  (The reason for this is that the object contains more information than just whether there is a match or not.) However, you can turn it into a boolean using `bool()` if you want.\n",
        "\n",
        "Include the following in the notebook you submit:\n",
        "\n",
        " 1. A regular expression in a text chunk\n",
        " 2. One or more code chunks in which you test several strings to verify that your regex is correct.\n",
        " 3. Make sure you display the results of testing various strings.\n",
        "\n",
        " See this [documentation page](https://docs.python.org/3/howto/regex.html#regex-howto) for further help."
      ],
      "metadata": {
        "id": "CsMBqFDmX7Ax"
      }
    },
    {
      "cell_type": "code",
      "source": [
        "# Sample code for testing whether a string matches a regex\n",
        "\n",
        "# First import this package for working with regular expressions\n",
        "import re\n",
        "\n",
        "# Here is an example.\n",
        "# Play around with different expressions and test strings to see what happens.\n",
        "exp = 'ab+'\n",
        "test = 'aabbbc'\n",
        "\n",
        "if re.match(exp,test):\n",
        "  print(\"match!\")\n",
        "else:\n",
        "  print(\"no match\")\n",
        "\n",
        "# uncomment this line if you want\n",
        "# print(type(re.match(exp,test)))\n",
        "\n",
        "# uncomment this line if you want\n",
        "# print(bool(re.match(exp,test)))"
      ],
      "metadata": {
        "id": "LKbpBAxJZnXp"
      },
      "execution_count": null,
      "outputs": []
    }
  ]
}