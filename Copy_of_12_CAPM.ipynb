{
  "cells": [
    {
      "cell_type": "markdown",
      "metadata": {
        "id": "view-in-github",
        "colab_type": "text"
      },
      "source": [
        "<a href=\"https://colab.research.google.com/github/KTeswar15/Programming-for-DS/blob/main/Copy_of_12_CAPM.ipynb\" target=\"_parent\"><img src=\"https://colab.research.google.com/assets/colab-badge.svg\" alt=\"Open In Colab\"/></a>"
      ]
    },
    {
      "cell_type": "markdown",
      "metadata": {
        "id": "Pz4oXuFbf1pe"
      },
      "source": [
        "## Capital Asset Pricing Model (CAPM)\n",
        "\n",
        "### Assignment due Monday 22 April at noon\n",
        "\n",
        "---"
      ]
    },
    {
      "cell_type": "markdown",
      "metadata": {
        "id": "K-eHlG5gf1pf"
      },
      "source": [
        "### Objectives\n",
        "\n",
        "This assignment is primarily meant to refresh your numpy and pandas skills.  \n",
        "Technical objectives are discussed below.  \n",
        "\n",
        "- All the usual rules apply:  you may work together (groups of at most 3), make sure all names are easy to find at the top of the submission, submit the link to your working colab notebook\n",
        "\n",
        "\n",
        "### Background\n",
        "\n",
        "In finance, CAPM is a single-factor regression model used for analyzing (and predicting) excess stock returns. There are better, more accurate models, but it has its uses. For example, the *market beta* is a useful output which has something to do with the risk of particular investments.\n",
        "\n",
        "1.  Read [this brief synopsis](https://en.wikipedia.org/wiki/Capital_asset_pricing_model) of CAPM.\n",
        "\n",
        "\n",
        "Don't worry if you don't understand all the terminology.\n",
        "Look for a moment at the main formula (in the \"Formula\" section).  For us that formula will look like this:\n",
        "\n",
        "\\begin{aligned}\n",
        "E(R_A) = R_f + \\beta_A (E(R_{SP}) - R_f)\n",
        "\\end{aligned}\n",
        "\n",
        "Some notes on the symbols in this formula:\n",
        "- The formula is used to estimate $E(R_A)$.  The $E$ here stands for the expected value, and $R_A$ is the rate of return of the investment $A$.\n",
        "- To use this formula, you therefore need to know the values of the other variables.\n",
        "- The variable $R_f$ is the \"risk-free rate,\" which is the amount of return you can get on an investment that has zero risk, like say a bank account.\n",
        "This quantity changes over time but for our purposes we can treat it as a constant.  It is hard-coded into the code below.  Make sure you see where this variable occurs in the formula above.\n",
        "- In this assignment the variable $R_{SP}$ is a measure of the rate of return of the overall market.  (The $E$ on the right side also means expected value.)\n",
        "- The variable $\\beta_A$ measures something about the relative risk of the investment A, relative to the overall market.  The technical objective of this assignment will be to compute $\\beta_A$ below, and then to examine how sensitive it is to the specific data.\n",
        "- The value you get for $\\beta_A$ will be a number.  If it is greater than 1, it means (*very roughly*) that the investment A is more volatile than the overall market.  If it is less than 1, it means that the investment is less volatile than the overall market.  But **do not take this too seriously!** In particular see all the caveats at the wikipedia page.\n",
        "- The A investment in our example is an individual stock (Apple).\n",
        "\n"
      ]
    },
    {
      "cell_type": "markdown",
      "metadata": {
        "id": "bHqzHCZnf1pg"
      },
      "source": [
        "2.  Load the packages and data.  (Note that the following code chunk also hard-codes the constant $R_f$.)  \n",
        "The data lives in the file `capm_market_data` in the `data` folder on the `GitHub` site."
      ]
    },
    {
      "cell_type": "code",
      "execution_count": 4,
      "metadata": {
        "id": "iRPr8YvJf1pg"
      },
      "outputs": [],
      "source": [
        "# load numpy and pandas packages\n",
        "import numpy as np\n",
        "import pandas as pd\n",
        "\n",
        "\n",
        "# get data\n",
        "\n",
        "df = pd.read_csv('/content/capm_market_data.csv')\n",
        "\n",
        "\n",
        "# risk-free Treasury rate\n",
        "R_f = 0.0175 / 252"
      ]
    },
    {
      "cell_type": "markdown",
      "metadata": {
        "id": "PLXAZx6xf1ph"
      },
      "source": [
        "3.  Look at some records.  \n",
        "SPY is something that mirrors the S&P 500 (\"the market\").  \n",
        "AAPL is the code for Apple stock.  \n",
        "The values are closing prices, adjusted for splits and dividends."
      ]
    },
    {
      "cell_type": "code",
      "execution_count": 5,
      "metadata": {
        "id": "747y_ickf1ph",
        "colab": {
          "base_uri": "https://localhost:8080/"
        },
        "outputId": "153405c7-b639-4905-bd94-4229bed8748d"
      },
      "outputs": [
        {
          "output_type": "stream",
          "name": "stdout",
          "text": [
            "first 5 rows of the SPY: \n",
            "0    321.555786\n",
            "1    319.120911\n",
            "2    320.338379\n",
            "3    319.437653\n",
            "4    321.140106\n",
            "Name: spy_adj_close, dtype: float64\n",
            "first 5 rows of the AAPL:\n",
            "0    298.829956\n",
            "1    295.924713\n",
            "2    298.282715\n",
            "3    296.879883\n",
            "4    301.655548\n",
            "Name: aapl_adj_close, dtype: float64\n"
          ]
        }
      ],
      "source": [
        "print('first 5 rows of the SPY: ')\n",
        "print(df['spy_adj_close'].head())\n",
        "print('first 5 rows of the AAPL:' )\n",
        "print(df['aapl_adj_close'].head())"
      ]
    },
    {
      "cell_type": "markdown",
      "metadata": {
        "id": "y8uzBoHpf1ph"
      },
      "source": [
        "4.  Drop the date column"
      ]
    },
    {
      "cell_type": "code",
      "execution_count": 6,
      "metadata": {
        "id": "1rUGRXnQf1ph"
      },
      "outputs": [],
      "source": [
        "df = df.drop(columns = \"date\")\n",
        "# print(df) The print statemetn served to prove that the code deleted the date column"
      ]
    },
    {
      "cell_type": "markdown",
      "metadata": {
        "id": "fyE1w8F2f1ph"
      },
      "source": [
        "5.  Compute daily returns (percentage changes in price) for both SPY and AAPL.\n",
        "(Be sure to drop the first row of NaN.)  \n",
        "Hint: pandas has functions to easily do this.  \n",
        "Print the first 5 rows of returns.\n"
      ]
    },
    {
      "cell_type": "code",
      "execution_count": 7,
      "metadata": {
        "id": "8aCLOA08f1pi",
        "colab": {
          "base_uri": "https://localhost:8080/"
        },
        "outputId": "0c1e9118-3a3a-4b2b-b2a7-af6b17f9c2ff"
      },
      "outputs": [
        {
          "output_type": "stream",
          "name": "stdout",
          "text": [
            "percentage changes for SPY\n",
            "1   -0.007572\n",
            "2    0.003815\n",
            "3   -0.002812\n",
            "4    0.005330\n",
            "5    0.006781\n",
            "Name: percentage_change_in_price_SPY, dtype: float64\n",
            "percentage chagnes for AAPL\n",
            "1   -0.009722\n",
            "2    0.007968\n",
            "3   -0.004703\n",
            "4    0.016086\n",
            "5    0.021241\n",
            "Name: percentage_change_in_price_AAPL, dtype: float64\n"
          ]
        }
      ],
      "source": [
        "#prints the first 5 rows of percentage change for SPY\n",
        "df['percentage_change_in_price_SPY']=df['spy_adj_close'].pct_change()\n",
        "print('percentage changes for SPY')\n",
        "print(df['percentage_change_in_price_SPY'].iloc[1:6])\n",
        "\n",
        "#prints the first 5 rows of percentage for AAPL\n",
        "df['percentage_change_in_price_AAPL'] = df['aapl_adj_close'].pct_change()\n",
        "print('percentage chagnes for AAPL')\n",
        "print(df['percentage_change_in_price_AAPL'].iloc[1:6])"
      ]
    },
    {
      "cell_type": "markdown",
      "metadata": {
        "id": "qA51CJQUf1pi"
      },
      "source": [
        "6.  Save the SPY and AAPL returns into separate numpy arrays.  \n",
        "Print the first five values from each of the two arrays.\n"
      ]
    },
    {
      "cell_type": "code",
      "execution_count": 8,
      "metadata": {
        "id": "uTx4aa7of1pi",
        "colab": {
          "base_uri": "https://localhost:8080/"
        },
        "outputId": "da5a320f-347e-4f4e-ca60-6ada22a1cace"
      },
      "outputs": [
        {
          "output_type": "stream",
          "name": "stdout",
          "text": [
            "first 5 array values for SPY:\n",
            "[321.55578613 319.12091064 320.33837891 319.43765259 321.1401062 ]\n",
            "first 5 array values for AAPL:\n",
            "[298.82995605 295.92471313 298.28271484 296.87988281 301.6555481 ]\n"
          ]
        }
      ],
      "source": [
        "#array for SPL\n",
        "\n",
        "spy_array = df['spy_adj_close'].values\n",
        "print('first 5 array values for SPY:')\n",
        "print(spy_array[0:5])\n",
        "\n",
        "\n",
        "#array for AAPL\n",
        "aapl_array = df['aapl_adj_close'].values\n",
        "print('first 5 array values for AAPL:')\n",
        "print(aapl_array[0:5])"
      ]
    },
    {
      "cell_type": "markdown",
      "metadata": {
        "id": "SO4C0unXf1pi"
      },
      "source": [
        "7.  Make arrays (one for SPY, one for AAPL) containing the *excess* returns by subtracting the constant $R_f$ from the returns.  \n",
        "(Recall that $R_f$ is the \"risk-free rate\" meaning essentially that you could earn this much in interest if you didn't invest in anything.)  \n",
        "Print the LAST five excess returns from both SPY and AAPL numpy arrays."
      ]
    },
    {
      "cell_type": "code",
      "execution_count": 9,
      "metadata": {
        "id": "o8XOunw5f1pi",
        "colab": {
          "base_uri": "https://localhost:8080/"
        },
        "outputId": "0a84c6b9-930f-48e8-a0b9-0051a4558e87"
      },
      "outputs": [
        {
          "output_type": "stream",
          "name": "stdout",
          "text": [
            "excess returns for SPY [314.37993544 317.58992689 314.83992689 318.91994398]\n",
            "excess returns for AAPL [383.00994032 383.67992323 381.90993422 388.22994154]\n"
          ]
        }
      ],
      "source": [
        "subtract = R_f\n",
        "\n",
        "new_spy = spy_array - R_f\n",
        "new_aapl = aapl_array - R_f\n",
        "\n",
        "print('excess returns for SPY' , new_spy[-5:-1])\n",
        "print('excess returns for AAPL' , new_aapl[-5:-1])"
      ]
    },
    {
      "cell_type": "markdown",
      "metadata": {
        "id": "-DUdB1GGf1pi"
      },
      "source": [
        "8. Make a scatterplot with SPY excess returns on the $x$-axis and AAPL excess returns on the $y$-axis.  \n",
        "If you need it, here is the [Matplotlib documentation]( https://matplotlib.org/stable/api/_as_gen/matplotlib.pyplot.scatter.html)."
      ]
    },
    {
      "cell_type": "code",
      "execution_count": 10,
      "metadata": {
        "id": "ucDTjQOmf1pi",
        "colab": {
          "base_uri": "https://localhost:8080/",
          "height": 472
        },
        "outputId": "713e944b-e426-49f2-8b63-92b190f4a269"
      },
      "outputs": [
        {
          "output_type": "display_data",
          "data": {
            "text/plain": [
              "<Figure size 640x480 with 1 Axes>"
            ],
            "image/png": "[encoded data removed]"
          },
          "metadata": {}
        }
      ],
      "source": [
        "import matplotlib.pyplot as plt\n",
        "\n",
        "plt.scatter(new_spy,new_aapl)\n",
        "\n",
        "plt.xlabel('new_spy')\n",
        "plt.ylabel('new_aapl')\n",
        "plt.title('new_spy vs new_aapl')\n",
        "\n",
        "plt.show()"
      ]
    },
    {
      "cell_type": "markdown",
      "metadata": {
        "id": "LCJPl-d9f1pi"
      },
      "source": [
        "The value of $\\beta_A$ is computed from the arrays you built in problem 7, via a formula that uses some statistical functions called the \"variance\" and the \"covariance.\"\n",
        "\n",
        "Any individual 1-d array of numbers has a variance, which you can compute using `numpy`'s function `var()` (documented [here](https://numpy.org/doc/stable/reference/generated/numpy.var.html)).  This is a number.\n",
        "\n",
        "If you have two 1-d arrays of the same length, they collectively have something called a covariance which `numpy` also can compute using `cov()` (documented [here](https://numpy.org/doc/stable/reference/generated/numpy.cov.html)).\n",
        "\n",
        "The covariance is also a number, but look at what happens when you send two 1-d arrays to `cov()`: it returns a $2\\times 2$ matrix.  (Try it!)  The covariance we are looking for is the number that lives in both the top right and the bottom left of this matrix.  (Those two numbers should be the same.)  The top left and bottom right entries of the covariance matrix also have meaning, but we don't need them.\n",
        "\n"
      ]
    },
    {
      "cell_type": "markdown",
      "source": [
        "9. Use `numpy` functions as described above to compute the estimate of $\\beta_A$, using the following formula:  \n",
        "\\begin{aligned} \\beta_A= \\frac{ \\text{cov}(A,SP) }{ \\text{var}(SP) } \\end{aligned}\n",
        "In our context, A will be the 1-d array you made in problem 7 for AAPL, and SP will be the 1-d array you made for SPY."
      ],
      "metadata": {
        "id": "bb0j7Vi7quGp"
      }
    },
    {
      "cell_type": "code",
      "execution_count": 14,
      "metadata": {
        "id": "blGso0pMf1pj",
        "colab": {
          "base_uri": "https://localhost:8080/"
        },
        "outputId": "c998befe-6315-4e8a-9bdf-fc9d818d46a2"
      },
      "outputs": [
        {
          "output_type": "stream",
          "name": "stdout",
          "text": [
            "Beta_A: 1.0452160639554555\n"
          ]
        }
      ],
      "source": [
        "cov_aapl_spy = np.cov(aapl_array, spy_array)[0, 1]\n",
        "\n",
        "# Calculate variance of SPY returns\n",
        "var_spy = np.var(spy_array)\n",
        "\n",
        "# Calculate Beta for AAPL\n",
        "beta_aapl = cov_aapl_spy / var_spy\n",
        "\n",
        "print(\"Beta_A:\", beta_aapl)"
      ]
    },
    {
      "cell_type": "markdown",
      "metadata": {
        "id": "02POpgABf1pj"
      },
      "source": [
        "You should have found that the beta estimate is greater than one.  \n",
        "This means that the volatility of AAPL stock, given the data, and according to this particular (flawed) model,\n",
        "is higher than the volatility of the S&P 500.\n",
        "\n",
        "Bonus:  Is this something you can see on the plot you made?\n",
        "\n"
      ]
    },
    {
      "cell_type": "markdown",
      "source": [],
      "metadata": {
        "id": "aeLasrWag1S4"
      }
    },
    {
      "cell_type": "markdown",
      "metadata": {
        "id": "5jCGs8igf1pj"
      },
      "source": [
        "Finally, let's look at how sensitive the beta is to each data point.   \n",
        "We want to drop each data point (one at a time), compute \\\\(\\hat\\beta_i\\\\) using our formula from above, and save each measurement.\n",
        "\n",
        "This is called *jackknifing*.\n",
        "\n"
      ]
    },
    {
      "cell_type": "markdown",
      "source": [
        "10. Write a function called `beta_sensitivity()` with these specs:\n",
        "\n",
        "- take numpy arrays `x` and `y` as inputs\n",
        "- outputs a list of tuples, so that each tuple contains (observation row dropped, beta estimate)\n",
        "\n",
        "Hint: **np.delete(x, i).reshape(-1,1)** will delete observation i from array x, and make it a column vector"
      ],
      "metadata": {
        "id": "VhlkawRDeV8Z"
      }
    },
    {
      "cell_type": "code",
      "execution_count": 18,
      "metadata": {
        "id": "LyT1XSF8f1pj",
        "colab": {
          "base_uri": "https://localhost:8080/"
        },
        "outputId": "2164ad3a-1d1a-41f4-f257-bf95a1b12d74"
      },
      "outputs": [
        {
          "output_type": "stream",
          "name": "stdout",
          "text": [
            "[(0, 1.0533267872186984), (1, 1.0525628775069114), (2, 1.052734606101125), (3, 1.052533381338449), (4, 1.0523899733281925), (5, 1.0519686013499714), (6, 1.0512911978071193), (7, 1.050646161145047), (8, 1.0515739894299192), (9, 1.0523469386743547), (10, 1.052740804946437), (11, 1.0522248582334086), (12, 1.052543261699426), (13, 1.0522101375362443), (14, 1.0519364352412635), (15, 1.050668973217794), (16, 1.0505321707406443), (17, 1.04994138620151), (18, 1.0480564718619982), (19, 1.0486063046275933), (20, 1.049600578887475), (21, 1.050902130589725), (22, 1.0506568142565218), (23, 1.0518453341531337), (24, 1.051189543380151), (25, 1.051698552726443), (26, 1.0525887385978765), (27, 1.0536268257742287), (28, 1.0521260575189684), (29, 1.0527952971484555), (30, 1.0530943087026448), (31, 1.0547911190635115), (32, 1.0540765528481464), (33, 1.0544479694733868), (34, 1.0547808404197196), (35, 1.052247221697389), (36, 1.0490171194743718), (37, 1.0480250116577208), (38, 1.044075055798185), (39, 1.0437361774521947), (40, 1.0466725601904665), (41, 1.0450840866597773), (42, 1.0473432841216082), (43, 1.045473895476469), (44, 1.0446779362626835), (45, 1.0413207711151202), (46, 1.0440168659696114), (47, 1.0439161179728147), (48, 1.042434653962695), (49, 1.04625515865912), (50, 1.0436131598383303), (51, 1.0425951377053173), (52, 1.0464734946281846), (53, 1.0448751175604076), (54, 1.0409990082922687), (55, 1.0416160763709914), (56, 1.0436280231450528), (57, 1.0408249288379317), (58, 1.0412688866988695), (59, 1.0391182753197925), (60, 1.0396689662938274), (61, 1.0406386667015983), (62, 1.0384952083902486), (63, 1.0383011057619458), (64, 1.0378781344930004), (65, 1.0417495250184736), (66, 1.0405677079834397), (67, 1.0411126510535467), (68, 1.04126262363507), (69, 1.0427619075394385), (70, 1.0445116413289077), (71, 1.045046692506145), (72, 1.045248071441565), (73, 1.0436776865019397), (74, 1.042927588898761), (75, 1.0418772296528105), (76, 1.0429744975655575), (77, 1.04274673668858), (78, 1.0439103580973703), (79, 1.0437215389897243), (80, 1.0430903895741146), (81, 1.0443693262149352), (82, 1.044819817285504), (83, 1.0449995931160143), (84, 1.0455619233070257), (85, 1.0457502295875225), (86, 1.0466337031842536), (87, 1.0462723730600665), (88, 1.046041013705892), (89, 1.046389669519318), (90, 1.0476458204562282), (91, 1.0488657125918928), (92, 1.0479434483696317), (93, 1.0472590227211063), (94, 1.0458672776357247), (95, 1.0463691282881802), (96, 1.0456758269365296), (97, 1.0459811238492398), (98, 1.0459583494958469), (99, 1.0453205945912478), (100, 1.0449863172130303), (101, 1.0450004982967618), (102, 1.0449792830645013), (103, 1.044736487733901), (104, 1.0446116257575395), (105, 1.0446202207958124), (106, 1.0449058161884823), (107, 1.0444600817385226), (108, 1.0448066779435947), (109, 1.0419339683716675), (110, 1.0400208275747298), (111, 1.0449576335649478), (112, 1.0439529818831121), (113, 1.0430529262285302), (114, 1.040882625890935), (115, 1.0411998869834493), (116, 1.0411574205199343), (117, 1.0417758346479864), (118, 1.0401797551981395), (119, 1.0386873417778189), (120, 1.042368468644263), (121, 1.040621174321033), (122, 1.0444076198071288), (123, 1.0420974533022507), (124, 1.0402227214481672), (125, 1.0395260727942992), (126, 1.038987553033762), (127, 1.0358675882034953), (128, 1.0371416474252058), (129, 1.0347034066358316), (130, 1.0351684399062397), (131, 1.0336940064056828), (132, 1.0351567798409236), (133, 1.0321970213664289), (134, 1.030419505074499)]\n"
          ]
        }
      ],
      "source": [
        "x = new_spy\n",
        "y = new_aapl\n",
        "\n",
        "def beta_sensitivity(x, y):\n",
        "    betas = []\n",
        "    for i in range(len(x)):\n",
        "        x_modified = np.delete(x, i).reshape(-1, 1)\n",
        "\n",
        "        y_modified = np.delete(y, i)\n",
        "\n",
        "        cov_xy = np.cov(x_modified.T, y_modified)[0, 1]\n",
        "        var_x = np.var(x_modified)\n",
        "        beta = cov_xy / var_x\n",
        "\n",
        "        betas.append((i, beta))\n",
        "\n",
        "    return betas\n",
        "\n",
        "# sensitivity_results = beta_sensitivity(x, y)\n",
        "# print(sensitivity_results)\n",
        "#above code will print the entire tuple of the results.\n"
      ]
    },
    {
      "cell_type": "markdown",
      "metadata": {
        "id": "L9u4bfjtf1pj"
      },
      "source": [
        "11. Call `beta_sensitivity()` on the arrays A and SP from earlier and print the first ten tuples of output."
      ]
    },
    {
      "cell_type": "code",
      "execution_count": 22,
      "metadata": {
        "id": "vaz9ozp6f1pj",
        "colab": {
          "base_uri": "https://localhost:8080/"
        },
        "outputId": "3fe46348-85bc-4340-a311-8da528aa9e16"
      },
      "outputs": [
        {
          "output_type": "stream",
          "name": "stdout",
          "text": [
            "[(0, 1.0533267872186984), (1, 1.0525628775069114), (2, 1.052734606101125), (3, 1.052533381338449), (4, 1.0523899733281925), (5, 1.0519686013499714), (6, 1.0512911978071193), (7, 1.050646161145047), (8, 1.0515739894299192), (9, 1.0523469386743547)]\n"
          ]
        }
      ],
      "source": [
        "sensitivity_results = beta_sensitivity(x, y)\n",
        "print(sensitivity_results[0:10])"
      ]
    }
  ],
  "metadata": {
    "kernelspec": {
      "display_name": "Python 3.8.9 64-bit",
      "language": "python",
      "name": "python3"
    },
    "language_info": {
      "codemirror_mode": {
        "name": "ipython",
        "version": 3
      },
      "file_extension": ".py",
      "mimetype": "text/x-python",
      "name": "python",
      "nbconvert_exporter": "python",
      "pygments_lexer": "ipython3",
      "version": "3.8.9"
    },
    "vscode": {
      "interpreter": {
        "hash": "31f2aee4e71d21fbe5cf8b01ff0e069b9275f58929596ceb00d14d90e3e16cd6"
      }
    },
    "colab": {
      "provenance": [],
      "include_colab_link": true
    }
  },
  "nbformat": 4,
  "nbformat_minor": 0
}