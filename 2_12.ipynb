{
  "nbformat": 4,
  "nbformat_minor": 0,
  "metadata": {
    "colab": {
      "provenance": [],
      "authorship_tag": "ABX9TyM7YloR4QQawAIXKikka9HR",
      "include_colab_link": true
    },
    "kernelspec": {
      "name": "python3",
      "display_name": "Python 3"
    },
    "language_info": {
      "name": "python"
    }
  },
  "cells": [
    {
      "cell_type": "markdown",
      "metadata": {
        "id": "view-in-github",
        "colab_type": "text"
      },
      "source": [
        "<a href=\"https://colab.research.google.com/github/KTeswar15/Programming-for-DS/blob/main/2_12.ipynb\" target=\"_parent\"><img src=\"https://colab.research.google.com/assets/colab-badge.svg\" alt=\"Open In Colab\"/></a>"
      ]
    },
    {
      "cell_type": "code",
      "execution_count": null,
      "metadata": {
        "id": "6ahxnzQf32wJ"
      },
      "outputs": [],
      "source": [
        "#Keerthana Eswarapragada csr8ct GameGuesser\n",
        "#took a very long time (>3 days) I personally did not feel the in class lecture helped with this assignment.\n",
        "\n",
        "import random\n",
        "compNum= (random.randint(1,100)) #keeps the randomly selected number\n",
        "#print(compNum)\n",
        "\n",
        "\n",
        "userNum= (int(input(\"enter a number between 1 and 100: \"))) #user number that they guessed\n",
        "#while userNum.type==int:\n",
        "while userNum!=compNum:\n",
        "  if userNum>=1 and userNum<=100:\n",
        "    if userNum == compNum:\n",
        "      print(\"good job\")\n",
        "\n",
        "    elif userNum>compNum:\n",
        "      print(\"too high\")\n",
        "      #print(compNum)\n",
        "      userNum= (int(input(\"enter a number between 1 and 100: \")))\n",
        "\n",
        "    elif userNum<compNum:\n",
        "        print(\"too low\")\n",
        "        #print(compNum)\n",
        "        userNum= (int(input(\"enter a number between 1 and 100: \")))\n",
        "\n",
        "  else:\n",
        "    print(\"only use numbers within 1 and 100\")\n",
        "    userNum= (int(input(\"enter a number between 1 and 100: \")))\n",
        "else:\n",
        "  print(\"Good Job\")\n",
        "\n",
        "  #something that did not work was being able to identify if something was outside of the range of 1-100 and also if the user entered something that is not a number.\n",
        "\n"
      ]
    }
  ]
}